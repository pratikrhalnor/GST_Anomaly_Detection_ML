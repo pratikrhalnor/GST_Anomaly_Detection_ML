{
  "nbformat": 4,
  "nbformat_minor": 0,
  "metadata": {
    "colab": {
      "provenance": []
    },
    "kernelspec": {
      "name": "python3",
      "display_name": "Python 3"
    },
    "language_info": {
      "name": "python"
    },
    "widgets": {
      "application/vnd.jupyter.widget-state+json": {
        "788fd20fa85e4a3b92cca4ea87a4e5c3": {
          "model_module": "@jupyter-widgets/controls",
          "model_name": "IntTextModel",
          "model_module_version": "1.5.0",
          "state": {
            "_dom_classes": [],
            "_model_module": "@jupyter-widgets/controls",
            "_model_module_version": "1.5.0",
            "_model_name": "IntTextModel",
            "_view_count": null,
            "_view_module": "@jupyter-widgets/controls",
            "_view_module_version": "1.5.0",
            "_view_name": "IntTextView",
            "continuous_update": false,
            "description": "InvoiceValue:",
            "description_tooltip": null,
            "disabled": false,
            "layout": "IPY_MODEL_d80fb0731c07432e93cb2b204b1717eb",
            "step": 1,
            "style": "IPY_MODEL_d09c0d5f5aba4ac9a495d79572341ceb",
            "value": 151867
          }
        },
        "d80fb0731c07432e93cb2b204b1717eb": {
          "model_module": "@jupyter-widgets/base",
          "model_name": "LayoutModel",
          "model_module_version": "1.2.0",
          "state": {
            "_model_module": "@jupyter-widgets/base",
            "_model_module_version": "1.2.0",
            "_model_name": "LayoutModel",
            "_view_count": null,
            "_view_module": "@jupyter-widgets/base",
            "_view_module_version": "1.2.0",
            "_view_name": "LayoutView",
            "align_content": null,
            "align_items": null,
            "align_self": null,
            "border": null,
            "bottom": null,
            "display": null,
            "flex": null,
            "flex_flow": null,
            "grid_area": null,
            "grid_auto_columns": null,
            "grid_auto_flow": null,
            "grid_auto_rows": null,
            "grid_column": null,
            "grid_gap": null,
            "grid_row": null,
            "grid_template_areas": null,
            "grid_template_columns": null,
            "grid_template_rows": null,
            "height": null,
            "justify_content": null,
            "justify_items": null,
            "left": null,
            "margin": null,
            "max_height": null,
            "max_width": null,
            "min_height": null,
            "min_width": null,
            "object_fit": null,
            "object_position": null,
            "order": null,
            "overflow": null,
            "overflow_x": null,
            "overflow_y": null,
            "padding": null,
            "right": null,
            "top": null,
            "visibility": null,
            "width": null
          }
        },
        "d09c0d5f5aba4ac9a495d79572341ceb": {
          "model_module": "@jupyter-widgets/controls",
          "model_name": "DescriptionStyleModel",
          "model_module_version": "1.5.0",
          "state": {
            "_model_module": "@jupyter-widgets/controls",
            "_model_module_version": "1.5.0",
            "_model_name": "DescriptionStyleModel",
            "_view_count": null,
            "_view_module": "@jupyter-widgets/base",
            "_view_module_version": "1.2.0",
            "_view_name": "StyleView",
            "description_width": ""
          }
        },
        "e01de60744bd4c758baaaca322eb18b1": {
          "model_module": "@jupyter-widgets/controls",
          "model_name": "FloatTextModel",
          "model_module_version": "1.5.0",
          "state": {
            "_dom_classes": [],
            "_model_module": "@jupyter-widgets/controls",
            "_model_module_version": "1.5.0",
            "_model_name": "FloatTextModel",
            "_view_count": null,
            "_view_module": "@jupyter-widgets/controls",
            "_view_module_version": "1.5.0",
            "_view_name": "FloatTextView",
            "continuous_update": false,
            "description": "IGST:",
            "description_tooltip": null,
            "disabled": false,
            "layout": "IPY_MODEL_e07515a0c5484e2d8ec5acbdeb751f69",
            "step": null,
            "style": "IPY_MODEL_d58a31579ce04a0e85b5cdee8e971843",
            "value": 25555.26
          }
        },
        "e07515a0c5484e2d8ec5acbdeb751f69": {
          "model_module": "@jupyter-widgets/base",
          "model_name": "LayoutModel",
          "model_module_version": "1.2.0",
          "state": {
            "_model_module": "@jupyter-widgets/base",
            "_model_module_version": "1.2.0",
            "_model_name": "LayoutModel",
            "_view_count": null,
            "_view_module": "@jupyter-widgets/base",
            "_view_module_version": "1.2.0",
            "_view_name": "LayoutView",
            "align_content": null,
            "align_items": null,
            "align_self": null,
            "border": null,
            "bottom": null,
            "display": null,
            "flex": null,
            "flex_flow": null,
            "grid_area": null,
            "grid_auto_columns": null,
            "grid_auto_flow": null,
            "grid_auto_rows": null,
            "grid_column": null,
            "grid_gap": null,
            "grid_row": null,
            "grid_template_areas": null,
            "grid_template_columns": null,
            "grid_template_rows": null,
            "height": null,
            "justify_content": null,
            "justify_items": null,
            "left": null,
            "margin": null,
            "max_height": null,
            "max_width": null,
            "min_height": null,
            "min_width": null,
            "object_fit": null,
            "object_position": null,
            "order": null,
            "overflow": null,
            "overflow_x": null,
            "overflow_y": null,
            "padding": null,
            "right": null,
            "top": null,
            "visibility": null,
            "width": null
          }
        },
        "d58a31579ce04a0e85b5cdee8e971843": {
          "model_module": "@jupyter-widgets/controls",
          "model_name": "DescriptionStyleModel",
          "model_module_version": "1.5.0",
          "state": {
            "_model_module": "@jupyter-widgets/controls",
            "_model_module_version": "1.5.0",
            "_model_name": "DescriptionStyleModel",
            "_view_count": null,
            "_view_module": "@jupyter-widgets/base",
            "_view_module_version": "1.2.0",
            "_view_name": "StyleView",
            "description_width": ""
          }
        },
        "7b9941cd1adb4aaea33c24def3aaaf3d": {
          "model_module": "@jupyter-widgets/controls",
          "model_name": "FloatTextModel",
          "model_module_version": "1.5.0",
          "state": {
            "_dom_classes": [],
            "_model_module": "@jupyter-widgets/controls",
            "_model_module_version": "1.5.0",
            "_model_name": "FloatTextModel",
            "_view_count": null,
            "_view_module": "@jupyter-widgets/controls",
            "_view_module_version": "1.5.0",
            "_view_name": "FloatTextView",
            "continuous_update": false,
            "description": "CGST:",
            "description_tooltip": null,
            "disabled": false,
            "layout": "IPY_MODEL_2fe41fb0c2eb4fb1b2865be83f4c573d",
            "step": null,
            "style": "IPY_MODEL_2f560d82a79249dab37f2f5967ceb57d",
            "value": 8605.39
          }
        },
        "2fe41fb0c2eb4fb1b2865be83f4c573d": {
          "model_module": "@jupyter-widgets/base",
          "model_name": "LayoutModel",
          "model_module_version": "1.2.0",
          "state": {
            "_model_module": "@jupyter-widgets/base",
            "_model_module_version": "1.2.0",
            "_model_name": "LayoutModel",
            "_view_count": null,
            "_view_module": "@jupyter-widgets/base",
            "_view_module_version": "1.2.0",
            "_view_name": "LayoutView",
            "align_content": null,
            "align_items": null,
            "align_self": null,
            "border": null,
            "bottom": null,
            "display": null,
            "flex": null,
            "flex_flow": null,
            "grid_area": null,
            "grid_auto_columns": null,
            "grid_auto_flow": null,
            "grid_auto_rows": null,
            "grid_column": null,
            "grid_gap": null,
            "grid_row": null,
            "grid_template_areas": null,
            "grid_template_columns": null,
            "grid_template_rows": null,
            "height": null,
            "justify_content": null,
            "justify_items": null,
            "left": null,
            "margin": null,
            "max_height": null,
            "max_width": null,
            "min_height": null,
            "min_width": null,
            "object_fit": null,
            "object_position": null,
            "order": null,
            "overflow": null,
            "overflow_x": null,
            "overflow_y": null,
            "padding": null,
            "right": null,
            "top": null,
            "visibility": null,
            "width": null
          }
        },
        "2f560d82a79249dab37f2f5967ceb57d": {
          "model_module": "@jupyter-widgets/controls",
          "model_name": "DescriptionStyleModel",
          "model_module_version": "1.5.0",
          "state": {
            "_model_module": "@jupyter-widgets/controls",
            "_model_module_version": "1.5.0",
            "_model_name": "DescriptionStyleModel",
            "_view_count": null,
            "_view_module": "@jupyter-widgets/base",
            "_view_module_version": "1.2.0",
            "_view_name": "StyleView",
            "description_width": ""
          }
        },
        "bfa3c566b29748a3a51e72a967f73238": {
          "model_module": "@jupyter-widgets/controls",
          "model_name": "FloatTextModel",
          "model_module_version": "1.5.0",
          "state": {
            "_dom_classes": [],
            "_model_module": "@jupyter-widgets/controls",
            "_model_module_version": "1.5.0",
            "_model_name": "FloatTextModel",
            "_view_count": null,
            "_view_module": "@jupyter-widgets/controls",
            "_view_module_version": "1.5.0",
            "_view_name": "FloatTextView",
            "continuous_update": false,
            "description": "SGST:",
            "description_tooltip": null,
            "disabled": false,
            "layout": "IPY_MODEL_b3122c2f752d4f97b67a7e67a87436bc",
            "step": null,
            "style": "IPY_MODEL_e6c775ad7d2041d18af357f13a774d98",
            "value": 19357.84
          }
        },
        "b3122c2f752d4f97b67a7e67a87436bc": {
          "model_module": "@jupyter-widgets/base",
          "model_name": "LayoutModel",
          "model_module_version": "1.2.0",
          "state": {
            "_model_module": "@jupyter-widgets/base",
            "_model_module_version": "1.2.0",
            "_model_name": "LayoutModel",
            "_view_count": null,
            "_view_module": "@jupyter-widgets/base",
            "_view_module_version": "1.2.0",
            "_view_name": "LayoutView",
            "align_content": null,
            "align_items": null,
            "align_self": null,
            "border": null,
            "bottom": null,
            "display": null,
            "flex": null,
            "flex_flow": null,
            "grid_area": null,
            "grid_auto_columns": null,
            "grid_auto_flow": null,
            "grid_auto_rows": null,
            "grid_column": null,
            "grid_gap": null,
            "grid_row": null,
            "grid_template_areas": null,
            "grid_template_columns": null,
            "grid_template_rows": null,
            "height": null,
            "justify_content": null,
            "justify_items": null,
            "left": null,
            "margin": null,
            "max_height": null,
            "max_width": null,
            "min_height": null,
            "min_width": null,
            "object_fit": null,
            "object_position": null,
            "order": null,
            "overflow": null,
            "overflow_x": null,
            "overflow_y": null,
            "padding": null,
            "right": null,
            "top": null,
            "visibility": null,
            "width": null
          }
        },
        "e6c775ad7d2041d18af357f13a774d98": {
          "model_module": "@jupyter-widgets/controls",
          "model_name": "DescriptionStyleModel",
          "model_module_version": "1.5.0",
          "state": {
            "_model_module": "@jupyter-widgets/controls",
            "_model_module_version": "1.5.0",
            "_model_name": "DescriptionStyleModel",
            "_view_count": null,
            "_view_module": "@jupyter-widgets/base",
            "_view_module_version": "1.2.0",
            "_view_name": "StyleView",
            "description_width": ""
          }
        },
        "205e1f9e4f6d49299921046b77c4d0db": {
          "model_module": "@jupyter-widgets/controls",
          "model_name": "FloatTextModel",
          "model_module_version": "1.5.0",
          "state": {
            "_dom_classes": [],
            "_model_module": "@jupyter-widgets/controls",
            "_model_module_version": "1.5.0",
            "_model_name": "FloatTextModel",
            "_view_count": null,
            "_view_module": "@jupyter-widgets/controls",
            "_view_module_version": "1.5.0",
            "_view_name": "FloatTextView",
            "continuous_update": false,
            "description": "InputTaxCredit:",
            "description_tooltip": null,
            "disabled": false,
            "layout": "IPY_MODEL_37b6ffa059f64c428cf94f06706391cd",
            "step": null,
            "style": "IPY_MODEL_cf8b7ac241a744e59cf78f0ef1f7ce14",
            "value": 19482.39
          }
        },
        "37b6ffa059f64c428cf94f06706391cd": {
          "model_module": "@jupyter-widgets/base",
          "model_name": "LayoutModel",
          "model_module_version": "1.2.0",
          "state": {
            "_model_module": "@jupyter-widgets/base",
            "_model_module_version": "1.2.0",
            "_model_name": "LayoutModel",
            "_view_count": null,
            "_view_module": "@jupyter-widgets/base",
            "_view_module_version": "1.2.0",
            "_view_name": "LayoutView",
            "align_content": null,
            "align_items": null,
            "align_self": null,
            "border": null,
            "bottom": null,
            "display": null,
            "flex": null,
            "flex_flow": null,
            "grid_area": null,
            "grid_auto_columns": null,
            "grid_auto_flow": null,
            "grid_auto_rows": null,
            "grid_column": null,
            "grid_gap": null,
            "grid_row": null,
            "grid_template_areas": null,
            "grid_template_columns": null,
            "grid_template_rows": null,
            "height": null,
            "justify_content": null,
            "justify_items": null,
            "left": null,
            "margin": null,
            "max_height": null,
            "max_width": null,
            "min_height": null,
            "min_width": null,
            "object_fit": null,
            "object_position": null,
            "order": null,
            "overflow": null,
            "overflow_x": null,
            "overflow_y": null,
            "padding": null,
            "right": null,
            "top": null,
            "visibility": null,
            "width": null
          }
        },
        "cf8b7ac241a744e59cf78f0ef1f7ce14": {
          "model_module": "@jupyter-widgets/controls",
          "model_name": "DescriptionStyleModel",
          "model_module_version": "1.5.0",
          "state": {
            "_model_module": "@jupyter-widgets/controls",
            "_model_module_version": "1.5.0",
            "_model_name": "DescriptionStyleModel",
            "_view_count": null,
            "_view_module": "@jupyter-widgets/base",
            "_view_module_version": "1.2.0",
            "_view_name": "StyleView",
            "description_width": ""
          }
        },
        "1a1db7b782284902b99200c3f873516f": {
          "model_module": "@jupyter-widgets/controls",
          "model_name": "IntTextModel",
          "model_module_version": "1.5.0",
          "state": {
            "_dom_classes": [],
            "_model_module": "@jupyter-widgets/controls",
            "_model_module_version": "1.5.0",
            "_model_name": "IntTextModel",
            "_view_count": null,
            "_view_module": "@jupyter-widgets/controls",
            "_view_module_version": "1.5.0",
            "_view_name": "IntTextView",
            "continuous_update": false,
            "description": "Turnover:",
            "description_tooltip": null,
            "disabled": false,
            "layout": "IPY_MODEL_d5e97a6793f44778becae04f5ca83a68",
            "step": 1,
            "style": "IPY_MODEL_184d32fa7e9945d893b91c42e6947837",
            "value": 10630690
          }
        },
        "d5e97a6793f44778becae04f5ca83a68": {
          "model_module": "@jupyter-widgets/base",
          "model_name": "LayoutModel",
          "model_module_version": "1.2.0",
          "state": {
            "_model_module": "@jupyter-widgets/base",
            "_model_module_version": "1.2.0",
            "_model_name": "LayoutModel",
            "_view_count": null,
            "_view_module": "@jupyter-widgets/base",
            "_view_module_version": "1.2.0",
            "_view_name": "LayoutView",
            "align_content": null,
            "align_items": null,
            "align_self": null,
            "border": null,
            "bottom": null,
            "display": null,
            "flex": null,
            "flex_flow": null,
            "grid_area": null,
            "grid_auto_columns": null,
            "grid_auto_flow": null,
            "grid_auto_rows": null,
            "grid_column": null,
            "grid_gap": null,
            "grid_row": null,
            "grid_template_areas": null,
            "grid_template_columns": null,
            "grid_template_rows": null,
            "height": null,
            "justify_content": null,
            "justify_items": null,
            "left": null,
            "margin": null,
            "max_height": null,
            "max_width": null,
            "min_height": null,
            "min_width": null,
            "object_fit": null,
            "object_position": null,
            "order": null,
            "overflow": null,
            "overflow_x": null,
            "overflow_y": null,
            "padding": null,
            "right": null,
            "top": null,
            "visibility": null,
            "width": null
          }
        },
        "184d32fa7e9945d893b91c42e6947837": {
          "model_module": "@jupyter-widgets/controls",
          "model_name": "DescriptionStyleModel",
          "model_module_version": "1.5.0",
          "state": {
            "_model_module": "@jupyter-widgets/controls",
            "_model_module_version": "1.5.0",
            "_model_name": "DescriptionStyleModel",
            "_view_count": null,
            "_view_module": "@jupyter-widgets/base",
            "_view_module_version": "1.2.0",
            "_view_name": "StyleView",
            "description_width": ""
          }
        },
        "19554c25e6344cad8eb99bb497299df1": {
          "model_module": "@jupyter-widgets/controls",
          "model_name": "IntTextModel",
          "model_module_version": "1.5.0",
          "state": {
            "_dom_classes": [],
            "_model_module": "@jupyter-widgets/controls",
            "_model_module_version": "1.5.0",
            "_model_name": "IntTextModel",
            "_view_count": null,
            "_view_module": "@jupyter-widgets/controls",
            "_view_module_version": "1.5.0",
            "_view_name": "IntTextView",
            "continuous_update": false,
            "description": "InvoiceCount:",
            "description_tooltip": null,
            "disabled": false,
            "layout": "IPY_MODEL_c95a0da63f964ca6a0e6fb281767e3fc",
            "step": 1,
            "style": "IPY_MODEL_dad876317a3c46fc9b3cc505086d859f",
            "value": 170
          }
        },
        "c95a0da63f964ca6a0e6fb281767e3fc": {
          "model_module": "@jupyter-widgets/base",
          "model_name": "LayoutModel",
          "model_module_version": "1.2.0",
          "state": {
            "_model_module": "@jupyter-widgets/base",
            "_model_module_version": "1.2.0",
            "_model_name": "LayoutModel",
            "_view_count": null,
            "_view_module": "@jupyter-widgets/base",
            "_view_module_version": "1.2.0",
            "_view_name": "LayoutView",
            "align_content": null,
            "align_items": null,
            "align_self": null,
            "border": null,
            "bottom": null,
            "display": null,
            "flex": null,
            "flex_flow": null,
            "grid_area": null,
            "grid_auto_columns": null,
            "grid_auto_flow": null,
            "grid_auto_rows": null,
            "grid_column": null,
            "grid_gap": null,
            "grid_row": null,
            "grid_template_areas": null,
            "grid_template_columns": null,
            "grid_template_rows": null,
            "height": null,
            "justify_content": null,
            "justify_items": null,
            "left": null,
            "margin": null,
            "max_height": null,
            "max_width": null,
            "min_height": null,
            "min_width": null,
            "object_fit": null,
            "object_position": null,
            "order": null,
            "overflow": null,
            "overflow_x": null,
            "overflow_y": null,
            "padding": null,
            "right": null,
            "top": null,
            "visibility": null,
            "width": null
          }
        },
        "dad876317a3c46fc9b3cc505086d859f": {
          "model_module": "@jupyter-widgets/controls",
          "model_name": "DescriptionStyleModel",
          "model_module_version": "1.5.0",
          "state": {
            "_model_module": "@jupyter-widgets/controls",
            "_model_module_version": "1.5.0",
            "_model_name": "DescriptionStyleModel",
            "_view_count": null,
            "_view_module": "@jupyter-widgets/base",
            "_view_module_version": "1.2.0",
            "_view_name": "StyleView",
            "description_width": ""
          }
        },
        "fb88c252cdda40538e09316be0b34c24": {
          "model_module": "@jupyter-widgets/controls",
          "model_name": "IntTextModel",
          "model_module_version": "1.5.0",
          "state": {
            "_dom_classes": [],
            "_model_module": "@jupyter-widgets/controls",
            "_model_module_version": "1.5.0",
            "_model_name": "IntTextModel",
            "_view_count": null,
            "_view_module": "@jupyter-widgets/controls",
            "_view_module_version": "1.5.0",
            "_view_name": "IntTextView",
            "continuous_update": false,
            "description": "BusinessAge:",
            "description_tooltip": null,
            "disabled": false,
            "layout": "IPY_MODEL_52c49aa7404646ebb26978ba67dd47e1",
            "step": 1,
            "style": "IPY_MODEL_010df525dcfa485fb65dc1032012e7f6",
            "value": 6
          }
        },
        "52c49aa7404646ebb26978ba67dd47e1": {
          "model_module": "@jupyter-widgets/base",
          "model_name": "LayoutModel",
          "model_module_version": "1.2.0",
          "state": {
            "_model_module": "@jupyter-widgets/base",
            "_model_module_version": "1.2.0",
            "_model_name": "LayoutModel",
            "_view_count": null,
            "_view_module": "@jupyter-widgets/base",
            "_view_module_version": "1.2.0",
            "_view_name": "LayoutView",
            "align_content": null,
            "align_items": null,
            "align_self": null,
            "border": null,
            "bottom": null,
            "display": null,
            "flex": null,
            "flex_flow": null,
            "grid_area": null,
            "grid_auto_columns": null,
            "grid_auto_flow": null,
            "grid_auto_rows": null,
            "grid_column": null,
            "grid_gap": null,
            "grid_row": null,
            "grid_template_areas": null,
            "grid_template_columns": null,
            "grid_template_rows": null,
            "height": null,
            "justify_content": null,
            "justify_items": null,
            "left": null,
            "margin": null,
            "max_height": null,
            "max_width": null,
            "min_height": null,
            "min_width": null,
            "object_fit": null,
            "object_position": null,
            "order": null,
            "overflow": null,
            "overflow_x": null,
            "overflow_y": null,
            "padding": null,
            "right": null,
            "top": null,
            "visibility": null,
            "width": null
          }
        },
        "010df525dcfa485fb65dc1032012e7f6": {
          "model_module": "@jupyter-widgets/controls",
          "model_name": "DescriptionStyleModel",
          "model_module_version": "1.5.0",
          "state": {
            "_model_module": "@jupyter-widgets/controls",
            "_model_module_version": "1.5.0",
            "_model_name": "DescriptionStyleModel",
            "_view_count": null,
            "_view_module": "@jupyter-widgets/base",
            "_view_module_version": "1.2.0",
            "_view_name": "StyleView",
            "description_width": ""
          }
        },
        "ed9130d4a7b94a7ebb9d284db8aabe41": {
          "model_module": "@jupyter-widgets/controls",
          "model_name": "IntTextModel",
          "model_module_version": "1.5.0",
          "state": {
            "_dom_classes": [],
            "_model_module": "@jupyter-widgets/controls",
            "_model_module_version": "1.5.0",
            "_model_name": "IntTextModel",
            "_view_count": null,
            "_view_module": "@jupyter-widgets/controls",
            "_view_module_version": "1.5.0",
            "_view_name": "IntTextView",
            "continuous_update": false,
            "description": "FilingDelay:",
            "description_tooltip": null,
            "disabled": false,
            "layout": "IPY_MODEL_b5b1b1cb20c743f6926868dd003e2702",
            "step": 1,
            "style": "IPY_MODEL_64a05130aab04f518d78448f3459ba41",
            "value": 25
          }
        },
        "b5b1b1cb20c743f6926868dd003e2702": {
          "model_module": "@jupyter-widgets/base",
          "model_name": "LayoutModel",
          "model_module_version": "1.2.0",
          "state": {
            "_model_module": "@jupyter-widgets/base",
            "_model_module_version": "1.2.0",
            "_model_name": "LayoutModel",
            "_view_count": null,
            "_view_module": "@jupyter-widgets/base",
            "_view_module_version": "1.2.0",
            "_view_name": "LayoutView",
            "align_content": null,
            "align_items": null,
            "align_self": null,
            "border": null,
            "bottom": null,
            "display": null,
            "flex": null,
            "flex_flow": null,
            "grid_area": null,
            "grid_auto_columns": null,
            "grid_auto_flow": null,
            "grid_auto_rows": null,
            "grid_column": null,
            "grid_gap": null,
            "grid_row": null,
            "grid_template_areas": null,
            "grid_template_columns": null,
            "grid_template_rows": null,
            "height": null,
            "justify_content": null,
            "justify_items": null,
            "left": null,
            "margin": null,
            "max_height": null,
            "max_width": null,
            "min_height": null,
            "min_width": null,
            "object_fit": null,
            "object_position": null,
            "order": null,
            "overflow": null,
            "overflow_x": null,
            "overflow_y": null,
            "padding": null,
            "right": null,
            "top": null,
            "visibility": null,
            "width": null
          }
        },
        "64a05130aab04f518d78448f3459ba41": {
          "model_module": "@jupyter-widgets/controls",
          "model_name": "DescriptionStyleModel",
          "model_module_version": "1.5.0",
          "state": {
            "_model_module": "@jupyter-widgets/controls",
            "_model_module_version": "1.5.0",
            "_model_name": "DescriptionStyleModel",
            "_view_count": null,
            "_view_module": "@jupyter-widgets/base",
            "_view_module_version": "1.2.0",
            "_view_name": "StyleView",
            "description_width": ""
          }
        },
        "54c877cac3dd405983e3e2e93e23304f": {
          "model_module": "@jupyter-widgets/controls",
          "model_name": "ButtonModel",
          "model_module_version": "1.5.0",
          "state": {
            "_dom_classes": [],
            "_model_module": "@jupyter-widgets/controls",
            "_model_module_version": "1.5.0",
            "_model_name": "ButtonModel",
            "_view_count": null,
            "_view_module": "@jupyter-widgets/controls",
            "_view_module_version": "1.5.0",
            "_view_name": "ButtonView",
            "button_style": "",
            "description": "Predict",
            "disabled": false,
            "icon": "",
            "layout": "IPY_MODEL_526acadec4134e12b39ac26cb054374c",
            "style": "IPY_MODEL_ae4aec5cd7f54591a7cd50880f4d8326",
            "tooltip": ""
          }
        },
        "526acadec4134e12b39ac26cb054374c": {
          "model_module": "@jupyter-widgets/base",
          "model_name": "LayoutModel",
          "model_module_version": "1.2.0",
          "state": {
            "_model_module": "@jupyter-widgets/base",
            "_model_module_version": "1.2.0",
            "_model_name": "LayoutModel",
            "_view_count": null,
            "_view_module": "@jupyter-widgets/base",
            "_view_module_version": "1.2.0",
            "_view_name": "LayoutView",
            "align_content": null,
            "align_items": null,
            "align_self": null,
            "border": null,
            "bottom": null,
            "display": null,
            "flex": null,
            "flex_flow": null,
            "grid_area": null,
            "grid_auto_columns": null,
            "grid_auto_flow": null,
            "grid_auto_rows": null,
            "grid_column": null,
            "grid_gap": null,
            "grid_row": null,
            "grid_template_areas": null,
            "grid_template_columns": null,
            "grid_template_rows": null,
            "height": null,
            "justify_content": null,
            "justify_items": null,
            "left": null,
            "margin": null,
            "max_height": null,
            "max_width": null,
            "min_height": null,
            "min_width": null,
            "object_fit": null,
            "object_position": null,
            "order": null,
            "overflow": null,
            "overflow_x": null,
            "overflow_y": null,
            "padding": null,
            "right": null,
            "top": null,
            "visibility": null,
            "width": null
          }
        },
        "ae4aec5cd7f54591a7cd50880f4d8326": {
          "model_module": "@jupyter-widgets/controls",
          "model_name": "ButtonStyleModel",
          "model_module_version": "1.5.0",
          "state": {
            "_model_module": "@jupyter-widgets/controls",
            "_model_module_version": "1.5.0",
            "_model_name": "ButtonStyleModel",
            "_view_count": null,
            "_view_module": "@jupyter-widgets/base",
            "_view_module_version": "1.2.0",
            "_view_name": "StyleView",
            "button_color": null,
            "font_weight": ""
          }
        }
      }
    }
  },
  "cells": [
    {
      "cell_type": "markdown",
      "source": [
        "# **🧾 GST Fraud Detection using Machine Learning**\n",
        "\n",
        "---\n",
        "\n",
        "\n",
        "\n",
        "This project aims to build a machine learning model that can detect fraudulent GST transactions.\n",
        "We use a synthetic dataset (gst_fraud_dataset.csv) containing both normal and fraudulent cases.\n",
        "\n",
        "The project workflow covers:\n",
        "\n",
        "Data Cleaning & Preprocessing\n",
        "\n",
        "Exploratory Data Analysis (EDA)\n",
        "\n",
        "Model Training & Evaluation\n",
        "\n",
        "Feature Importance Analysis\n",
        "\n",
        "Testing with Custom Inputs\n",
        "\n",
        "Developing a Simple UI for Predictions"
      ],
      "metadata": {
        "id": "KWbkX3CfzVmH"
      }
    },
    {
      "cell_type": "markdown",
      "source": [
        "# **📂 Dataset**\n",
        "\n",
        "---\n",
        "\n",
        "\n",
        "\n",
        "We use a synthetic dataset gst_fraud_dataset.csv, which includes various financial and compliance-related attributes such as Invoice Value, Turnover, Input Tax Credit, Filing Delays, etc.\n",
        "\n",
        "The dataset is labeled with a binary target variable Fraudulent:\n",
        "\n",
        "0 → Normal Transaction ✅\n",
        "\n",
        "1 → Fraudulent Transaction 🚨"
      ],
      "metadata": {
        "id": "LpEOvbjdN6Yy"
      }
    },
    {
      "cell_type": "markdown",
      "source": [
        "# **🧹 Data Cleaning**\n",
        "\n",
        "---\n",
        "\n",
        "\n",
        "\n",
        "Data preprocessing ensures that missing and inconsistent values are handled properly.\n",
        "\n",
        "Step 1: Checked for missing values.\n",
        "\n",
        "Step 2: Filled all missing values using the Median Imputation technique (robust to outliers)."
      ],
      "metadata": {
        "id": "pqdEGVH1OCVs"
      }
    },
    {
      "cell_type": "code",
      "source": [
        "import pandas as pd\n",
        "\n",
        "# Load dataset\n",
        "df = pd.read_csv(\"/content/gst_fraud_dataset (2).csv\")\n",
        "\n",
        "# Show first 5 rows\n",
        "print(df.head())\n",
        "\n",
        "# Show feature names (column names)\n",
        "print(\"\\nFeatures:\", list(df.columns[:-1]))  # all columns except 'Fraudulent'\n",
        "\n",
        "# Show dataset description (basic stats)\n",
        "print(\"\\nDescription:\\n\", df.describe())\n",
        "print(\"\\nDataset Shape:\", df.shape)\n",
        "print(\"\\nMissing Values:\\n\", df.isnull().sum())\n"
      ],
      "metadata": {
        "colab": {
          "base_uri": "https://localhost:8080/"
        },
        "id": "7QX9rF2GAm3k",
        "outputId": "fed21ba0-c84c-40c1-ffbb-a59891840adb"
      },
      "execution_count": 220,
      "outputs": [
        {
          "output_type": "stream",
          "name": "stdout",
          "text": [
            "   InvoiceValue      IGST      CGST      SGST  InputTaxCredit  Turnover  \\\n",
            "0        122458  30781.97  15852.23   7939.82         6913.97   2449160   \n",
            "1        147367  13564.49  19597.51   9675.42        21605.87  28736565   \n",
            "2        132432  15102.69   7867.46  16665.58         6014.69  31783680   \n",
            "3        366338  29236.76  22561.75  27691.04        12362.02  54950700   \n",
            "4        259678  53365.10  26001.72  29686.97        67523.34  29862970   \n",
            "\n",
            "   InvoiceCount  BusinessAge  FilingDelay  Fraudulent  \n",
            "0             5           24           76           1  \n",
            "1           178           21           59           0  \n",
            "2            56            6           85           1  \n",
            "3           191           20           39           0  \n",
            "4            57           18           14           1  \n",
            "\n",
            "Features: ['InvoiceValue', 'IGST', 'CGST', 'SGST', 'InputTaxCredit', 'Turnover', 'InvoiceCount', 'BusinessAge', 'FilingDelay']\n",
            "\n",
            "Description:\n",
            "         InvoiceValue           IGST         CGST          SGST  \\\n",
            "count    5000.000000    5000.000000   5000.00000   5000.000000   \n",
            "mean   246269.270600   40669.115214  23409.59696  23393.158676   \n",
            "std    143456.011072   30510.162019  15572.89985  15443.121031   \n",
            "min       626.000000      83.520000     57.57000     46.810000   \n",
            "25%    124929.000000   16517.285000  10673.60500  10770.607500   \n",
            "50%    240625.000000   32870.640000  21248.94000  21313.035000   \n",
            "75%    370512.750000   59106.795000  33463.95250  33852.117500   \n",
            "max    499999.000000  136923.350000  68861.98000  68902.150000   \n",
            "\n",
            "       InputTaxCredit      Turnover  InvoiceCount  BusinessAge  FilingDelay  \\\n",
            "count     5000.000000  5.000000e+03   5000.000000  5000.000000  5000.000000   \n",
            "mean     39496.524524  3.726887e+07    101.044000    15.099200    43.414000   \n",
            "std      32759.474250  3.200851e+07     57.614373     8.464401    26.029278   \n",
            "min         35.240000  3.854400e+04      1.000000     1.000000     0.000000   \n",
            "25%      12780.667500  1.106714e+07     52.000000     8.000000    21.000000   \n",
            "50%      30651.535000  2.816490e+07    101.000000    15.000000    43.000000   \n",
            "75%      58906.120000  5.596612e+07    152.000000    23.000000    66.000000   \n",
            "max     148347.840000  1.468159e+08    199.000000    29.000000    89.000000   \n",
            "\n",
            "        Fraudulent  \n",
            "count  5000.000000  \n",
            "mean      0.444600  \n",
            "std       0.496971  \n",
            "min       0.000000  \n",
            "25%       0.000000  \n",
            "50%       0.000000  \n",
            "75%       1.000000  \n",
            "max       1.000000  \n",
            "\n",
            "Dataset Shape: (5000, 10)\n",
            "\n",
            "Missing Values:\n",
            " InvoiceValue      0\n",
            "IGST              0\n",
            "CGST              0\n",
            "SGST              0\n",
            "InputTaxCredit    0\n",
            "Turnover          0\n",
            "InvoiceCount      0\n",
            "BusinessAge       0\n",
            "FilingDelay       0\n",
            "Fraudulent        0\n",
            "dtype: int64\n"
          ]
        }
      ]
    },
    {
      "cell_type": "markdown",
      "source": [
        "# **🎯 Importing Required Libraries**\n",
        "\n",
        "---\n",
        "\n",
        "\n",
        "\n",
        "We import essential Python libraries for:\n",
        "\n",
        "Data Handling & Cleaning: pandas, numpy\n",
        "\n",
        "Visualization: matplotlib, seaborn\n",
        "\n",
        "Modeling: scikit-learn (for ML algorithms, scaling, evaluation metrics)"
      ],
      "metadata": {
        "id": "752A1LGBOwRG"
      }
    },
    {
      "cell_type": "code",
      "source": [
        "import pandas as pd\n",
        "import numpy as np\n",
        "import matplotlib.pyplot as plt\n",
        "import seaborn as sns\n",
        "\n",
        "from sklearn.model_selection import train_test_split\n",
        "from sklearn.preprocessing import StandardScaler\n",
        "from sklearn.ensemble import RandomForestClassifier\n",
        "from sklearn.metrics import classification_report, confusion_matrix, accuracy_score\n"
      ],
      "metadata": {
        "id": "vI_MwcbeB8Lt"
      },
      "execution_count": 221,
      "outputs": []
    },
    {
      "cell_type": "code",
      "source": [
        "# Fill missing values with median for all numeric columns\n",
        "for col in df.select_dtypes(include=[np.number]).columns:\n",
        "    df[col] = df[col].fillna(df[col].median())\n",
        "\n",
        "print(\"Missing values after imputation:\\n\", df.isnull().sum())\n"
      ],
      "metadata": {
        "colab": {
          "base_uri": "https://localhost:8080/"
        },
        "id": "eBCV1sstDKXl",
        "outputId": "2a487a0e-c3a6-4695-d5a5-571477cd4252"
      },
      "execution_count": 222,
      "outputs": [
        {
          "output_type": "stream",
          "name": "stdout",
          "text": [
            "Missing values after imputation:\n",
            " InvoiceValue      0\n",
            "IGST              0\n",
            "CGST              0\n",
            "SGST              0\n",
            "InputTaxCredit    0\n",
            "Turnover          0\n",
            "InvoiceCount      0\n",
            "BusinessAge       0\n",
            "FilingDelay       0\n",
            "Fraudulent        0\n",
            "dtype: int64\n"
          ]
        }
      ]
    },
    {
      "cell_type": "markdown",
      "source": [
        "# **📊 Exploratory Data Analysis (EDA)**\n",
        "\n",
        "---\n",
        "\n",
        "\n",
        "\n",
        "EDA is performed to gain insights into the dataset:\n",
        "\n",
        "Checked distribution of Fraudulent vs Non-Fraudulent cases.\n",
        "\n",
        "Analyzed correlations between numerical features.\n",
        "\n",
        "Visualized data patterns using bar charts, histograms, and heatmaps."
      ],
      "metadata": {
        "id": "YH6WsINlOQFr"
      }
    },
    {
      "cell_type": "code",
      "source": [
        "# Fraud vs Non-Fraud distribution\n",
        "sns.countplot(x=\"Fraudulent\", data=df)\n",
        "plt.title(\"Fraud vs Non-Fraud Distribution\")\n",
        "plt.show()\n",
        "\n",
        "# Correlation heatmap\n",
        "plt.figure(figsize=(10,6))\n",
        "sns.heatmap(df.corr(), annot=False, cmap=\"coolwarm\")\n",
        "plt.title(\"Feature Correlation Heatmap\")\n",
        "plt.show()\n"
      ],
      "metadata": {
        "colab": {
          "base_uri": "https://localhost:8080/",
          "height": 1000
        },
        "id": "bcPY_ugkDcIj",
        "outputId": "701f5c5c-7a4d-4b4b-c68d-1726f750701c"
      },
      "execution_count": 223,
      "outputs": [
        {
          "output_type": "display_data",
          "data": {
            "text/plain": [
              "<Figure size 640x480 with 1 Axes>"
            ],
            "image/png": "[encoded data removed]"
          },
          "metadata": {}
        },
        {
          "output_type": "display_data",
          "data": {
            "text/plain": [
              "<Figure size 1000x600 with 2 Axes>"
            ],
            "image/png": "[encoded data removed]"
          },
          "metadata": {}
        }
      ]
    },
    {
      "cell_type": "markdown",
      "source": [
        "\n",
        "# **🔎 Feature & Target Creation**\n",
        "\n",
        "---\n",
        "\n",
        "\n",
        "\n",
        "Features (X): All independent columns (e.g., Invoice Value, Turnover, Filing Delay, etc.).\n",
        "\n",
        "Target (y): Fraudulent column (binary outcome)."
      ],
      "metadata": {
        "id": "vvu8f0tvOZXh"
      }
    },
    {
      "cell_type": "code",
      "source": [
        "# Features (X) and target (y)\n",
        "X = df.drop(\"Fraudulent\", axis=1)\n",
        "y = df[\"Fraudulent\"]\n",
        "\n",
        "print(\"Features:\", X.columns.tolist())\n",
        "print(\"\\nTarget variable distribution:\\n\", y.value_counts())\n"
      ],
      "metadata": {
        "colab": {
          "base_uri": "https://localhost:8080/"
        },
        "id": "zZ8UgUOtDlxN",
        "outputId": "40312cb9-2afc-4392-d36d-fded8c9e54e8"
      },
      "execution_count": 224,
      "outputs": [
        {
          "output_type": "stream",
          "name": "stdout",
          "text": [
            "Features: ['InvoiceValue', 'IGST', 'CGST', 'SGST', 'InputTaxCredit', 'Turnover', 'InvoiceCount', 'BusinessAge', 'FilingDelay']\n",
            "\n",
            "Target variable distribution:\n",
            " Fraudulent\n",
            "0    2777\n",
            "1    2223\n",
            "Name: count, dtype: int64\n"
          ]
        }
      ]
    },
    {
      "cell_type": "markdown",
      "source": [
        "# **✂️ Train-Test Split**\n",
        "\n",
        "---\n",
        "\n",
        "\n",
        "\n",
        "The dataset is divided into:\n",
        "\n",
        "Training Set (80%) → Used to train the model.\n",
        "\n",
        "Testing Set (20%) → Used to evaluate model performance.\n",
        "\n",
        "This ensures unbiased model evaluation."
      ],
      "metadata": {
        "id": "M0VwDYEdQoDu"
      }
    },
    {
      "cell_type": "code",
      "source": [
        "X_train, X_test, y_train, y_test = train_test_split(\n",
        "    X, y, test_size=0.2, random_state=42, stratify=y\n",
        ")\n",
        "\n",
        "print(\"Training set size:\", X_train.shape)\n",
        "print(\"Testing set size:\", X_test.shape)\n"
      ],
      "metadata": {
        "colab": {
          "base_uri": "https://localhost:8080/"
        },
        "id": "FcfsJSf4Ds2m",
        "outputId": "603f67c3-8395-4fed-e115-01bda271a850"
      },
      "execution_count": 225,
      "outputs": [
        {
          "output_type": "stream",
          "name": "stdout",
          "text": [
            "Training set size: (4000, 9)\n",
            "Testing set size: (1000, 9)\n"
          ]
        }
      ]
    },
    {
      "cell_type": "markdown",
      "source": [
        "# **⚖️ Data Scaling**\n",
        "\n",
        "---\n",
        "\n",
        "\n",
        "\n",
        "Features are scaled using StandardScaler, ensuring that all features contribute equally to the model and eliminating bias from large numerical ranges."
      ],
      "metadata": {
        "id": "1jUsh9LZQ08I"
      }
    },
    {
      "cell_type": "code",
      "source": [
        "scaler = StandardScaler()\n",
        "X_train_scaled = scaler.fit_transform(X_train)\n",
        "X_test_scaled = scaler.transform(X_test)\n"
      ],
      "metadata": {
        "id": "mrg-BEwaDvAb"
      },
      "execution_count": 226,
      "outputs": []
    },
    {
      "cell_type": "markdown",
      "source": [
        "# **🤖 Choosing the ML Algorithm**\n",
        "\n",
        "---\n",
        "\n",
        "\n",
        "\n",
        "We selected Random Forest Classifier due to:\n",
        "\n",
        "Strong performance on tabular financial datasets\n",
        "\n",
        "Ability to handle imbalanced classes using class_weight\n",
        "\n",
        "Interpretability via feature importance scores"
      ],
      "metadata": {
        "id": "29SML56NRCSD"
      }
    },
    {
      "cell_type": "code",
      "source": [
        "model = RandomForestClassifier(n_estimators=200, random_state=42, class_weight=\"balanced\")\n",
        "model.fit(X_train_scaled, y_train)\n"
      ],
      "metadata": {
        "colab": {
          "base_uri": "https://localhost:8080/",
          "height": 98
        },
        "id": "NbUk5NEGDyeh",
        "outputId": "df5de4f5-12da-4a42-ead2-0b391e2890bd"
      },
      "execution_count": 227,
      "outputs": [
        {
          "output_type": "execute_result",
          "data": {
            "text/plain": [
              "RandomForestClassifier(class_weight='balanced', n_estimators=200,\n",
              "                       random_state=42)"
            ],
            "text/html": [
              "<style>#sk-container-id-15 {\n",
              "  /* Definition of color scheme common for light and dark mode */\n",
              "  --sklearn-color-text: #000;\n",
              "  --sklearn-color-text-muted: #666;\n",
              "  --sklearn-color-line: gray;\n",
              "  /* Definition of color scheme for unfitted estimators */\n",
              "  --sklearn-color-unfitted-level-0: #fff5e6;\n",
              "  --sklearn-color-unfitted-level-1: #f6e4d2;\n",
              "  --sklearn-color-unfitted-level-2: #ffe0b3;\n",
              "  --sklearn-color-unfitted-level-3: chocolate;\n",
              "  /* Definition of color scheme for fitted estimators */\n",
              "  --sklearn-color-fitted-level-0: #f0f8ff;\n",
              "  --sklearn-color-fitted-level-1: #d4ebff;\n",
              "  --sklearn-color-fitted-level-2: #b3dbfd;\n",
              "  --sklearn-color-fitted-level-3: cornflowerblue;\n",
              "\n",
              "  /* Specific color for light theme */\n",
              "  --sklearn-color-text-on-default-background: var(--sg-text-color, var(--theme-code-foreground, var(--jp-content-font-color1, black)));\n",
              "  --sklearn-color-background: var(--sg-background-color, var(--theme-background, var(--jp-layout-color0, white)));\n",
              "  --sklearn-color-border-box: var(--sg-text-color, var(--theme-code-foreground, var(--jp-content-font-color1, black)));\n",
              "  --sklearn-color-icon: #696969;\n",
              "\n",
              "  @media (prefers-color-scheme: dark) {\n",
              "    /* Redefinition of color scheme for dark theme */\n",
              "    --sklearn-color-text-on-default-background: var(--sg-text-color, var(--theme-code-foreground, var(--jp-content-font-color1, white)));\n",
              "    --sklearn-color-background: var(--sg-background-color, var(--theme-background, var(--jp-layout-color0, #111)));\n",
              "    --sklearn-color-border-box: var(--sg-text-color, var(--theme-code-foreground, var(--jp-content-font-color1, white)));\n",
              "    --sklearn-color-icon: #878787;\n",
              "  }\n",
              "}\n",
              "\n",
              "#sk-container-id-15 {\n",
              "  color: var(--sklearn-color-text);\n",
              "}\n",
              "\n",
              "#sk-container-id-15 pre {\n",
              "  padding: 0;\n",
              "}\n",
              "\n",
              "#sk-container-id-15 input.sk-hidden--visually {\n",
              "  border: 0;\n",
              "  clip: rect(1px 1px 1px 1px);\n",
              "  clip: rect(1px, 1px, 1px, 1px);\n",
              "  height: 1px;\n",
              "  margin: -1px;\n",
              "  overflow: hidden;\n",
              "  padding: 0;\n",
              "  position: absolute;\n",
              "  width: 1px;\n",
              "}\n",
              "\n",
              "#sk-container-id-15 div.sk-dashed-wrapped {\n",
              "  border: 1px dashed var(--sklearn-color-line);\n",
              "  margin: 0 0.4em 0.5em 0.4em;\n",
              "  box-sizing: border-box;\n",
              "  padding-bottom: 0.4em;\n",
              "  background-color: var(--sklearn-color-background);\n",
              "}\n",
              "\n",
              "#sk-container-id-15 div.sk-container {\n",
              "  /* jupyter's `normalize.less` sets `[hidden] { display: none; }`\n",
              "     but bootstrap.min.css set `[hidden] { display: none !important; }`\n",
              "     so we also need the `!important` here to be able to override the\n",
              "     default hidden behavior on the sphinx rendered scikit-learn.org.\n",
              "     See: https://github.com/scikit-learn/scikit-learn/issues/21755 */\n",
              "  display: inline-block !important;\n",
              "  position: relative;\n",
              "}\n",
              "\n",
              "#sk-container-id-15 div.sk-text-repr-fallback {\n",
              "  display: none;\n",
              "}\n",
              "\n",
              "div.sk-parallel-item,\n",
              "div.sk-serial,\n",
              "div.sk-item {\n",
              "  /* draw centered vertical line to link estimators */\n",
              "  background-image: linear-gradient(var(--sklearn-color-text-on-default-background), var(--sklearn-color-text-on-default-background));\n",
              "  background-size: 2px 100%;\n",
              "  background-repeat: no-repeat;\n",
              "  background-position: center center;\n",
              "}\n",
              "\n",
              "/* Parallel-specific style estimator block */\n",
              "\n",
              "#sk-container-id-15 div.sk-parallel-item::after {\n",
              "  content: \"\";\n",
              "  width: 100%;\n",
              "  border-bottom: 2px solid var(--sklearn-color-text-on-default-background);\n",
              "  flex-grow: 1;\n",
              "}\n",
              "\n",
              "#sk-container-id-15 div.sk-parallel {\n",
              "  display: flex;\n",
              "  align-items: stretch;\n",
              "  justify-content: center;\n",
              "  background-color: var(--sklearn-color-background);\n",
              "  position: relative;\n",
              "}\n",
              "\n",
              "#sk-container-id-15 div.sk-parallel-item {\n",
              "  display: flex;\n",
              "  flex-direction: column;\n",
              "}\n",
              "\n",
              "#sk-container-id-15 div.sk-parallel-item:first-child::after {\n",
              "  align-self: flex-end;\n",
              "  width: 50%;\n",
              "}\n",
              "\n",
              "#sk-container-id-15 div.sk-parallel-item:last-child::after {\n",
              "  align-self: flex-start;\n",
              "  width: 50%;\n",
              "}\n",
              "\n",
              "#sk-container-id-15 div.sk-parallel-item:only-child::after {\n",
              "  width: 0;\n",
              "}\n",
              "\n",
              "/* Serial-specific style estimator block */\n",
              "\n",
              "#sk-container-id-15 div.sk-serial {\n",
              "  display: flex;\n",
              "  flex-direction: column;\n",
              "  align-items: center;\n",
              "  background-color: var(--sklearn-color-background);\n",
              "  padding-right: 1em;\n",
              "  padding-left: 1em;\n",
              "}\n",
              "\n",
              "\n",
              "/* Toggleable style: style used for estimator/Pipeline/ColumnTransformer box that is\n",
              "clickable and can be expanded/collapsed.\n",
              "- Pipeline and ColumnTransformer use this feature and define the default style\n",
              "- Estimators will overwrite some part of the style using the `sk-estimator` class\n",
              "*/\n",
              "\n",
              "/* Pipeline and ColumnTransformer style (default) */\n",
              "\n",
              "#sk-container-id-15 div.sk-toggleable {\n",
              "  /* Default theme specific background. It is overwritten whether we have a\n",
              "  specific estimator or a Pipeline/ColumnTransformer */\n",
              "  background-color: var(--sklearn-color-background);\n",
              "}\n",
              "\n",
              "/* Toggleable label */\n",
              "#sk-container-id-15 label.sk-toggleable__label {\n",
              "  cursor: pointer;\n",
              "  display: flex;\n",
              "  width: 100%;\n",
              "  margin-bottom: 0;\n",
              "  padding: 0.5em;\n",
              "  box-sizing: border-box;\n",
              "  text-align: center;\n",
              "  align-items: start;\n",
              "  justify-content: space-between;\n",
              "  gap: 0.5em;\n",
              "}\n",
              "\n",
              "#sk-container-id-15 label.sk-toggleable__label .caption {\n",
              "  font-size: 0.6rem;\n",
              "  font-weight: lighter;\n",
              "  color: var(--sklearn-color-text-muted);\n",
              "}\n",
              "\n",
              "#sk-container-id-15 label.sk-toggleable__label-arrow:before {\n",
              "  /* Arrow on the left of the label */\n",
              "  content: \"▸\";\n",
              "  float: left;\n",
              "  margin-right: 0.25em;\n",
              "  color: var(--sklearn-color-icon);\n",
              "}\n",
              "\n",
              "#sk-container-id-15 label.sk-toggleable__label-arrow:hover:before {\n",
              "  color: var(--sklearn-color-text);\n",
              "}\n",
              "\n",
              "/* Toggleable content - dropdown */\n",
              "\n",
              "#sk-container-id-15 div.sk-toggleable__content {\n",
              "  max-height: 0;\n",
              "  max-width: 0;\n",
              "  overflow: hidden;\n",
              "  text-align: left;\n",
              "  /* unfitted */\n",
              "  background-color: var(--sklearn-color-unfitted-level-0);\n",
              "}\n",
              "\n",
              "#sk-container-id-15 div.sk-toggleable__content.fitted {\n",
              "  /* fitted */\n",
              "  background-color: var(--sklearn-color-fitted-level-0);\n",
              "}\n",
              "\n",
              "#sk-container-id-15 div.sk-toggleable__content pre {\n",
              "  margin: 0.2em;\n",
              "  border-radius: 0.25em;\n",
              "  color: var(--sklearn-color-text);\n",
              "  /* unfitted */\n",
              "  background-color: var(--sklearn-color-unfitted-level-0);\n",
              "}\n",
              "\n",
              "#sk-container-id-15 div.sk-toggleable__content.fitted pre {\n",
              "  /* unfitted */\n",
              "  background-color: var(--sklearn-color-fitted-level-0);\n",
              "}\n",
              "\n",
              "#sk-container-id-15 input.sk-toggleable__control:checked~div.sk-toggleable__content {\n",
              "  /* Expand drop-down */\n",
              "  max-height: 200px;\n",
              "  max-width: 100%;\n",
              "  overflow: auto;\n",
              "}\n",
              "\n",
              "#sk-container-id-15 input.sk-toggleable__control:checked~label.sk-toggleable__label-arrow:before {\n",
              "  content: \"▾\";\n",
              "}\n",
              "\n",
              "/* Pipeline/ColumnTransformer-specific style */\n",
              "\n",
              "#sk-container-id-15 div.sk-label input.sk-toggleable__control:checked~label.sk-toggleable__label {\n",
              "  color: var(--sklearn-color-text);\n",
              "  background-color: var(--sklearn-color-unfitted-level-2);\n",
              "}\n",
              "\n",
              "#sk-container-id-15 div.sk-label.fitted input.sk-toggleable__control:checked~label.sk-toggleable__label {\n",
              "  background-color: var(--sklearn-color-fitted-level-2);\n",
              "}\n",
              "\n",
              "/* Estimator-specific style */\n",
              "\n",
              "/* Colorize estimator box */\n",
              "#sk-container-id-15 div.sk-estimator input.sk-toggleable__control:checked~label.sk-toggleable__label {\n",
              "  /* unfitted */\n",
              "  background-color: var(--sklearn-color-unfitted-level-2);\n",
              "}\n",
              "\n",
              "#sk-container-id-15 div.sk-estimator.fitted input.sk-toggleable__control:checked~label.sk-toggleable__label {\n",
              "  /* fitted */\n",
              "  background-color: var(--sklearn-color-fitted-level-2);\n",
              "}\n",
              "\n",
              "#sk-container-id-15 div.sk-label label.sk-toggleable__label,\n",
              "#sk-container-id-15 div.sk-label label {\n",
              "  /* The background is the default theme color */\n",
              "  color: var(--sklearn-color-text-on-default-background);\n",
              "}\n",
              "\n",
              "/* On hover, darken the color of the background */\n",
              "#sk-container-id-15 div.sk-label:hover label.sk-toggleable__label {\n",
              "  color: var(--sklearn-color-text);\n",
              "  background-color: var(--sklearn-color-unfitted-level-2);\n",
              "}\n",
              "\n",
              "/* Label box, darken color on hover, fitted */\n",
              "#sk-container-id-15 div.sk-label.fitted:hover label.sk-toggleable__label.fitted {\n",
              "  color: var(--sklearn-color-text);\n",
              "  background-color: var(--sklearn-color-fitted-level-2);\n",
              "}\n",
              "\n",
              "/* Estimator label */\n",
              "\n",
              "#sk-container-id-15 div.sk-label label {\n",
              "  font-family: monospace;\n",
              "  font-weight: bold;\n",
              "  display: inline-block;\n",
              "  line-height: 1.2em;\n",
              "}\n",
              "\n",
              "#sk-container-id-15 div.sk-label-container {\n",
              "  text-align: center;\n",
              "}\n",
              "\n",
              "/* Estimator-specific */\n",
              "#sk-container-id-15 div.sk-estimator {\n",
              "  font-family: monospace;\n",
              "  border: 1px dotted var(--sklearn-color-border-box);\n",
              "  border-radius: 0.25em;\n",
              "  box-sizing: border-box;\n",
              "  margin-bottom: 0.5em;\n",
              "  /* unfitted */\n",
              "  background-color: var(--sklearn-color-unfitted-level-0);\n",
              "}\n",
              "\n",
              "#sk-container-id-15 div.sk-estimator.fitted {\n",
              "  /* fitted */\n",
              "  background-color: var(--sklearn-color-fitted-level-0);\n",
              "}\n",
              "\n",
              "/* on hover */\n",
              "#sk-container-id-15 div.sk-estimator:hover {\n",
              "  /* unfitted */\n",
              "  background-color: var(--sklearn-color-unfitted-level-2);\n",
              "}\n",
              "\n",
              "#sk-container-id-15 div.sk-estimator.fitted:hover {\n",
              "  /* fitted */\n",
              "  background-color: var(--sklearn-color-fitted-level-2);\n",
              "}\n",
              "\n",
              "/* Specification for estimator info (e.g. \"i\" and \"?\") */\n",
              "\n",
              "/* Common style for \"i\" and \"?\" */\n",
              "\n",
              ".sk-estimator-doc-link,\n",
              "a:link.sk-estimator-doc-link,\n",
              "a:visited.sk-estimator-doc-link {\n",
              "  float: right;\n",
              "  font-size: smaller;\n",
              "  line-height: 1em;\n",
              "  font-family: monospace;\n",
              "  background-color: var(--sklearn-color-background);\n",
              "  border-radius: 1em;\n",
              "  height: 1em;\n",
              "  width: 1em;\n",
              "  text-decoration: none !important;\n",
              "  margin-left: 0.5em;\n",
              "  text-align: center;\n",
              "  /* unfitted */\n",
              "  border: var(--sklearn-color-unfitted-level-1) 1pt solid;\n",
              "  color: var(--sklearn-color-unfitted-level-1);\n",
              "}\n",
              "\n",
              ".sk-estimator-doc-link.fitted,\n",
              "a:link.sk-estimator-doc-link.fitted,\n",
              "a:visited.sk-estimator-doc-link.fitted {\n",
              "  /* fitted */\n",
              "  border: var(--sklearn-color-fitted-level-1) 1pt solid;\n",
              "  color: var(--sklearn-color-fitted-level-1);\n",
              "}\n",
              "\n",
              "/* On hover */\n",
              "div.sk-estimator:hover .sk-estimator-doc-link:hover,\n",
              ".sk-estimator-doc-link:hover,\n",
              "div.sk-label-container:hover .sk-estimator-doc-link:hover,\n",
              ".sk-estimator-doc-link:hover {\n",
              "  /* unfitted */\n",
              "  background-color: var(--sklearn-color-unfitted-level-3);\n",
              "  color: var(--sklearn-color-background);\n",
              "  text-decoration: none;\n",
              "}\n",
              "\n",
              "div.sk-estimator.fitted:hover .sk-estimator-doc-link.fitted:hover,\n",
              ".sk-estimator-doc-link.fitted:hover,\n",
              "div.sk-label-container:hover .sk-estimator-doc-link.fitted:hover,\n",
              ".sk-estimator-doc-link.fitted:hover {\n",
              "  /* fitted */\n",
              "  background-color: var(--sklearn-color-fitted-level-3);\n",
              "  color: var(--sklearn-color-background);\n",
              "  text-decoration: none;\n",
              "}\n",
              "\n",
              "/* Span, style for the box shown on hovering the info icon */\n",
              ".sk-estimator-doc-link span {\n",
              "  display: none;\n",
              "  z-index: 9999;\n",
              "  position: relative;\n",
              "  font-weight: normal;\n",
              "  right: .2ex;\n",
              "  padding: .5ex;\n",
              "  margin: .5ex;\n",
              "  width: min-content;\n",
              "  min-width: 20ex;\n",
              "  max-width: 50ex;\n",
              "  color: var(--sklearn-color-text);\n",
              "  box-shadow: 2pt 2pt 4pt #999;\n",
              "  /* unfitted */\n",
              "  background: var(--sklearn-color-unfitted-level-0);\n",
              "  border: .5pt solid var(--sklearn-color-unfitted-level-3);\n",
              "}\n",
              "\n",
              ".sk-estimator-doc-link.fitted span {\n",
              "  /* fitted */\n",
              "  background: var(--sklearn-color-fitted-level-0);\n",
              "  border: var(--sklearn-color-fitted-level-3);\n",
              "}\n",
              "\n",
              ".sk-estimator-doc-link:hover span {\n",
              "  display: block;\n",
              "}\n",
              "\n",
              "/* \"?\"-specific style due to the `<a>` HTML tag */\n",
              "\n",
              "#sk-container-id-15 a.estimator_doc_link {\n",
              "  float: right;\n",
              "  font-size: 1rem;\n",
              "  line-height: 1em;\n",
              "  font-family: monospace;\n",
              "  background-color: var(--sklearn-color-background);\n",
              "  border-radius: 1rem;\n",
              "  height: 1rem;\n",
              "  width: 1rem;\n",
              "  text-decoration: none;\n",
              "  /* unfitted */\n",
              "  color: var(--sklearn-color-unfitted-level-1);\n",
              "  border: var(--sklearn-color-unfitted-level-1) 1pt solid;\n",
              "}\n",
              "\n",
              "#sk-container-id-15 a.estimator_doc_link.fitted {\n",
              "  /* fitted */\n",
              "  border: var(--sklearn-color-fitted-level-1) 1pt solid;\n",
              "  color: var(--sklearn-color-fitted-level-1);\n",
              "}\n",
              "\n",
              "/* On hover */\n",
              "#sk-container-id-15 a.estimator_doc_link:hover {\n",
              "  /* unfitted */\n",
              "  background-color: var(--sklearn-color-unfitted-level-3);\n",
              "  color: var(--sklearn-color-background);\n",
              "  text-decoration: none;\n",
              "}\n",
              "\n",
              "#sk-container-id-15 a.estimator_doc_link.fitted:hover {\n",
              "  /* fitted */\n",
              "  background-color: var(--sklearn-color-fitted-level-3);\n",
              "}\n",
              "</style><div id=\"sk-container-id-15\" class=\"sk-top-container\"><div class=\"sk-text-repr-fallback\"><pre>RandomForestClassifier(class_weight=&#x27;balanced&#x27;, n_estimators=200,\n",
              "                       random_state=42)</pre><b>In a Jupyter environment, please rerun this cell to show the HTML representation or trust the notebook. <br />On GitHub, the HTML representation is unable to render, please try loading this page with nbviewer.org.</b></div><div class=\"sk-container\" hidden><div class=\"sk-item\"><div class=\"sk-estimator fitted sk-toggleable\"><input class=\"sk-toggleable__control sk-hidden--visually\" id=\"sk-estimator-id-15\" type=\"checkbox\" checked><label for=\"sk-estimator-id-15\" class=\"sk-toggleable__label fitted sk-toggleable__label-arrow\"><div><div>RandomForestClassifier</div></div><div><a class=\"sk-estimator-doc-link fitted\" rel=\"noreferrer\" target=\"_blank\" href=\"https://scikit-learn.org/1.6/modules/generated/sklearn.ensemble.RandomForestClassifier.html\">?<span>Documentation for RandomForestClassifier</span></a><span class=\"sk-estimator-doc-link fitted\">i<span>Fitted</span></span></div></label><div class=\"sk-toggleable__content fitted\"><pre>RandomForestClassifier(class_weight=&#x27;balanced&#x27;, n_estimators=200,\n",
              "                       random_state=42)</pre></div> </div></div></div></div>"
            ]
          },
          "metadata": {},
          "execution_count": 227
        }
      ]
    },
    {
      "cell_type": "markdown",
      "source": [
        "# **📌 Model Evaluation**\n",
        "\n",
        "---\n",
        "\n",
        "\n",
        "\n",
        "We evaluate the trained model using:\n",
        "\n",
        "Confusion Matrix → To visualize correct vs incorrect predictions.\n",
        "\n",
        "Classification Report → Precision, Recall, F1-Score.\n",
        "\n",
        "Accuracy Score → Overall model correctness."
      ],
      "metadata": {
        "id": "zqI-HZN3RIDI"
      }
    },
    {
      "cell_type": "code",
      "source": [
        "# Get predicted probabilities for the fraud class\n",
        "y_prob = model.predict_proba(X_test_scaled)[:, 1]  # Probability of class 1 (Fraud)\n",
        "\n",
        "# Apply custom threshold (e.g., 0.3 to catch more frauds)\n",
        "threshold = 0.3\n",
        "y_pred = (y_prob > threshold).astype(int)\n",
        "\n",
        "# Evaluate\n",
        "from sklearn.metrics import accuracy_score, classification_report, confusion_matrix\n",
        "import seaborn as sns\n",
        "import matplotlib.pyplot as plt\n",
        "\n",
        "print(\"Accuracy:\", accuracy_score(y_test, y_pred))\n",
        "print(\"\\nClassification Report:\\n\", classification_report(y_test, y_pred))\n",
        "\n",
        "# Confusion Matrix\n",
        "plt.figure(figsize=(6,4))\n",
        "sns.heatmap(confusion_matrix(y_test, y_pred), annot=True, fmt=\"d\", cmap=\"Blues\")\n",
        "plt.xlabel(\"Predicted\")\n",
        "plt.ylabel(\"Actual\")\n",
        "plt.title(f\"Confusion Matrix (Threshold={threshold})\")\n",
        "plt.show()\n"
      ],
      "metadata": {
        "colab": {
          "base_uri": "https://localhost:8080/",
          "height": 631
        },
        "id": "DBOzQllCLoyX",
        "outputId": "3d2ba4fb-e34a-47b1-9ec6-767a9a1e8ee0"
      },
      "execution_count": 229,
      "outputs": [
        {
          "output_type": "stream",
          "name": "stdout",
          "text": [
            "Accuracy: 0.935\n",
            "\n",
            "Classification Report:\n",
            "               precision    recall  f1-score   support\n",
            "\n",
            "           0       0.98      0.90      0.94       555\n",
            "           1       0.89      0.98      0.93       445\n",
            "\n",
            "    accuracy                           0.94      1000\n",
            "   macro avg       0.93      0.94      0.93      1000\n",
            "weighted avg       0.94      0.94      0.94      1000\n",
            "\n"
          ]
        },
        {
          "output_type": "display_data",
          "data": {
            "text/plain": [
              "<Figure size 600x400 with 2 Axes>"
            ],
            "image/png": "[encoded data removed]"
          },
          "metadata": {}
        }
      ]
    },
    {
      "cell_type": "markdown",
      "source": [
        "# **📊 Feature Importance**\n",
        "\n",
        "---\n",
        "\n",
        "\n",
        "\n",
        "Feature importance is analyzed to identify which attributes contribute most to fraud detection, such as:\n",
        "\n",
        "Invoice Value\n",
        "\n",
        "Input Tax Credit\n",
        "\n",
        "Turnover\n",
        "\n",
        "Filing Delay\n",
        "\n",
        "This helps in interpreting the model’s decision-making process."
      ],
      "metadata": {
        "id": "gVHdC2HTRS24"
      }
    },
    {
      "cell_type": "code",
      "source": [
        "importances = pd.Series(model.feature_importances_, index=X.columns)\n",
        "importances.sort_values().plot(kind=\"barh\", figsize=(10,6))\n",
        "plt.title(\"Feature Importance\")\n",
        "plt.show()\n"
      ],
      "metadata": {
        "colab": {
          "base_uri": "https://localhost:8080/",
          "height": 545
        },
        "id": "9whwCBJ_EBSg",
        "outputId": "d830e71f-9bd4-4f34-be20-e83b6a2cb294"
      },
      "execution_count": 230,
      "outputs": [
        {
          "output_type": "display_data",
          "data": {
            "text/plain": [
              "<Figure size 1000x600 with 1 Axes>"
            ],
            "image/png": "[encoded data removed]"
          },
          "metadata": {}
        }
      ]
    },
    {
      "cell_type": "markdown",
      "source": [
        "# **🧪 Testing the Model**\n",
        "\n",
        "---\n",
        "\n",
        "\n",
        "\n",
        "We validate the model by making predictions on new transaction data.\n",
        "Example: Provide custom inputs such as Invoice Value, ITC, Turnover, and Filing Delay → Model outputs Fraudulent or Normal."
      ],
      "metadata": {
        "id": "Y653DYjWRff4"
      }
    },
    {
      "cell_type": "markdown",
      "source": [
        "# **🖥️ UI Development**\n",
        "\n",
        "---\n",
        "\n",
        "\n",
        "\n",
        "A simple User Interface (UI) was developed for easy entries:\n",
        "\n",
        "Users can input transaction details\n",
        "\n",
        "The trained model instantly classifies it as Fraudulent (🚨) or Normal (✅)\n",
        "\n",
        "This makes the system more practical and user-friendly"
      ],
      "metadata": {
        "id": "ZulQ_xuVRjSZ"
      }
    },
    {
      "cell_type": "code",
      "source": [
        "# Interactive form (works in Colab)\n",
        "import ipywidgets as widgets\n",
        "from IPython.display import display\n",
        "\n",
        "# Create input boxes\n",
        "invoice_value = widgets.IntText(description=\"InvoiceValue:\")\n",
        "igst = widgets.FloatText(description=\"IGST:\")\n",
        "cgst = widgets.FloatText(description=\"CGST:\")\n",
        "sgst = widgets.FloatText(description=\"SGST:\")\n",
        "input_tax_credit = widgets.FloatText(description=\"InputTaxCredit:\")\n",
        "turnover = widgets.IntText(description=\"Turnover:\")\n",
        "invoice_count = widgets.IntText(description=\"InvoiceCount:\")\n",
        "business_age = widgets.IntText(description=\"BusinessAge:\")\n",
        "filing_delay = widgets.IntText(description=\"FilingDelay:\")\n",
        "\n",
        "button = widgets.Button(description=\"Predict\")\n",
        "\n",
        "# Prediction function\n",
        "def on_button_click(b):\n",
        "    new_data = pd.DataFrame([{\n",
        "        'InvoiceValue': invoice_value.value,\n",
        "        'IGST': igst.value,\n",
        "        'CGST': cgst.value,\n",
        "        'SGST': sgst.value,\n",
        "        'InputTaxCredit': input_tax_credit.value,\n",
        "        'Turnover': turnover.value,\n",
        "        'InvoiceCount': invoice_count.value,\n",
        "        'BusinessAge': business_age.value,\n",
        "        'FilingDelay': filing_delay.value\n",
        "    }])\n",
        "\n",
        "    new_scaled = scaler.transform(new_data)\n",
        "    prediction = model.predict(new_scaled)[0]\n",
        "\n",
        "    print(\"\\nResult:\", \"🚨 Fraudulent Transaction\" if prediction == 1 else \"✅ Normal Transaction\")\n",
        "\n",
        "button.on_click(on_button_click)\n",
        "\n",
        "# Display widgets\n",
        "display(invoice_value, igst, cgst, sgst, input_tax_credit, turnover, invoice_count, business_age, filing_delay, button)\n"
      ],
      "metadata": {
        "colab": {
          "base_uri": "https://localhost:8080/",
          "height": 396,
          "referenced_widgets": [
            "788fd20fa85e4a3b92cca4ea87a4e5c3",
            "d80fb0731c07432e93cb2b204b1717eb",
            "d09c0d5f5aba4ac9a495d79572341ceb",
            "e01de60744bd4c758baaaca322eb18b1",
            "e07515a0c5484e2d8ec5acbdeb751f69",
            "d58a31579ce04a0e85b5cdee8e971843",
            "7b9941cd1adb4aaea33c24def3aaaf3d",
            "2fe41fb0c2eb4fb1b2865be83f4c573d",
            "2f560d82a79249dab37f2f5967ceb57d",
            "bfa3c566b29748a3a51e72a967f73238",
            "b3122c2f752d4f97b67a7e67a87436bc",
            "e6c775ad7d2041d18af357f13a774d98",
            "205e1f9e4f6d49299921046b77c4d0db",
            "37b6ffa059f64c428cf94f06706391cd",
            "cf8b7ac241a744e59cf78f0ef1f7ce14",
            "1a1db7b782284902b99200c3f873516f",
            "d5e97a6793f44778becae04f5ca83a68",
            "184d32fa7e9945d893b91c42e6947837",
            "19554c25e6344cad8eb99bb497299df1",
            "c95a0da63f964ca6a0e6fb281767e3fc",
            "dad876317a3c46fc9b3cc505086d859f",
            "fb88c252cdda40538e09316be0b34c24",
            "52c49aa7404646ebb26978ba67dd47e1",
            "010df525dcfa485fb65dc1032012e7f6",
            "ed9130d4a7b94a7ebb9d284db8aabe41",
            "b5b1b1cb20c743f6926868dd003e2702",
            "64a05130aab04f518d78448f3459ba41",
            "54c877cac3dd405983e3e2e93e23304f",
            "526acadec4134e12b39ac26cb054374c",
            "ae4aec5cd7f54591a7cd50880f4d8326"
          ]
        },
        "id": "niFvLjQiTYKV",
        "outputId": "26ab092b-bbdc-468d-bbb1-454ba6af25ca"
      },
      "execution_count": 234,
      "outputs": [
        {
          "output_type": "display_data",
          "data": {
            "text/plain": [
              "IntText(value=0, description='InvoiceValue:')"
            ],
            "application/vnd.jupyter.widget-view+json": {
              "version_major": 2,
              "version_minor": 0,
              "model_id": "788fd20fa85e4a3b92cca4ea87a4e5c3"
            }
          },
          "metadata": {}
        },
        {
          "output_type": "display_data",
          "data": {
            "text/plain": [
              "FloatText(value=0.0, description='IGST:')"
            ],
            "application/vnd.jupyter.widget-view+json": {
              "version_major": 2,
              "version_minor": 0,
              "model_id": "e01de60744bd4c758baaaca322eb18b1"
            }
          },
          "metadata": {}
        },
        {
          "output_type": "display_data",
          "data": {
            "text/plain": [
              "FloatText(value=0.0, description='CGST:')"
            ],
            "application/vnd.jupyter.widget-view+json": {
              "version_major": 2,
              "version_minor": 0,
              "model_id": "7b9941cd1adb4aaea33c24def3aaaf3d"
            }
          },
          "metadata": {}
        },
        {
          "output_type": "display_data",
          "data": {
            "text/plain": [
              "FloatText(value=0.0, description='SGST:')"
            ],
            "application/vnd.jupyter.widget-view+json": {
              "version_major": 2,
              "version_minor": 0,
              "model_id": "bfa3c566b29748a3a51e72a967f73238"
            }
          },
          "metadata": {}
        },
        {
          "output_type": "display_data",
          "data": {
            "text/plain": [
              "FloatText(value=0.0, description='InputTaxCredit:')"
            ],
            "application/vnd.jupyter.widget-view+json": {
              "version_major": 2,
              "version_minor": 0,
              "model_id": "205e1f9e4f6d49299921046b77c4d0db"
            }
          },
          "metadata": {}
        },
        {
          "output_type": "display_data",
          "data": {
            "text/plain": [
              "IntText(value=0, description='Turnover:')"
            ],
            "application/vnd.jupyter.widget-view+json": {
              "version_major": 2,
              "version_minor": 0,
              "model_id": "1a1db7b782284902b99200c3f873516f"
            }
          },
          "metadata": {}
        },
        {
          "output_type": "display_data",
          "data": {
            "text/plain": [
              "IntText(value=0, description='InvoiceCount:')"
            ],
            "application/vnd.jupyter.widget-view+json": {
              "version_major": 2,
              "version_minor": 0,
              "model_id": "19554c25e6344cad8eb99bb497299df1"
            }
          },
          "metadata": {}
        },
        {
          "output_type": "display_data",
          "data": {
            "text/plain": [
              "IntText(value=0, description='BusinessAge:')"
            ],
            "application/vnd.jupyter.widget-view+json": {
              "version_major": 2,
              "version_minor": 0,
              "model_id": "fb88c252cdda40538e09316be0b34c24"
            }
          },
          "metadata": {}
        },
        {
          "output_type": "display_data",
          "data": {
            "text/plain": [
              "IntText(value=0, description='FilingDelay:')"
            ],
            "application/vnd.jupyter.widget-view+json": {
              "version_major": 2,
              "version_minor": 0,
              "model_id": "ed9130d4a7b94a7ebb9d284db8aabe41"
            }
          },
          "metadata": {}
        },
        {
          "output_type": "display_data",
          "data": {
            "text/plain": [
              "Button(description='Predict', style=ButtonStyle())"
            ],
            "application/vnd.jupyter.widget-view+json": {
              "version_major": 2,
              "version_minor": 0,
              "model_id": "54c877cac3dd405983e3e2e93e23304f"
            }
          },
          "metadata": {}
        },
        {
          "output_type": "stream",
          "name": "stdout",
          "text": [
            "\n",
            "Result: 🚨 Fraudulent Transaction\n",
            "\n",
            "Result: ✅ Normal Transaction\n"
          ]
        }
      ]
    },
    {
      "cell_type": "markdown",
      "source": [
        "# **✅ Conclusion**\n",
        "\n",
        "---\n",
        "\n",
        "\n",
        "\n",
        "Built a Random Forest model for GST fraud detection.\n",
        "\n",
        "Achieved high accuracy in distinguishing fraudulent vs normal transactions.\n",
        "\n",
        "Identified key features like Invoice Value, Turnover, and Filing Delay.\n",
        "\n",
        "Developed a basic UI for real-time testing of the model.\n",
        "\n",
        "Future Scope:\n",
        "\n",
        "Use advanced models like XGBoost / LightGBM.\n",
        "\n",
        "Deploy as a Flask/Django API for integration with financial systems.\n",
        "\n",
        "Train on real-world GST data for production use.\n",
        "\n",
        "\n"
      ],
      "metadata": {
        "id": "13fp7TPHWirk"
      }
    },
    {
      "cell_type": "code",
      "source": [
        "import joblib\n",
        "\n",
        "# Save model & scaler after training\n",
        "joblib.dump(model, \"gst_fraud_model.pkl\")\n",
        "joblib.dump(scaler, \"scaler_.pkl\")\n",
        "\n",
        "print(\"✅ Model and Scaler saved successfully!\")\n"
      ],
      "metadata": {
        "colab": {
          "base_uri": "https://localhost:8080/"
        },
        "id": "QIjncNB5wDIj",
        "outputId": "64578d60-f1a9-46e9-9d66-268f89146d53"
      },
      "execution_count": 232,
      "outputs": [
        {
          "output_type": "stream",
          "name": "stdout",
          "text": [
            "✅ Model and Scaler saved successfully!\n"
          ]
        }
      ]
    }
  ]
}